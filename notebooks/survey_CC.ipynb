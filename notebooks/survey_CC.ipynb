{
 "cells": [
  {
   "cell_type": "markdown",
   "metadata": {},
   "source": [
    "# YouTubers"
   ]
  },
  {
   "cell_type": "code",
   "execution_count": 1,
   "metadata": {},
   "outputs": [
    {
     "name": "stdout",
     "output_type": "stream",
     "text": [
      "Number of colums in Dataframe :  33\n",
      "Number of rows in Dataframe :  48\n"
     ]
    }
   ],
   "source": [
    "import pandas as pd\n",
    "import numpy as np\n",
    "\n",
    "# Import the CSV\n",
    "data = pd.read_csv (r'https://youchoose.tracking.exposed/api/v1/retrieveAnswersCSV/youtubers/spaghettinucleari/')\n",
    "\n",
    "# Check the data\n",
    "print('Number of colums in Dataframe : ', len(data.columns))\n",
    "print('Number of rows in Dataframe : ', len(data.index))\n",
    "\n",
    "\n",
    "# Create the df\n",
    "df = pd.DataFrame(data=data)\n",
    "#df.set_option('display.max_columns', None)\n",
    "\n",
    "#df"
   ]
  },
  {
   "cell_type": "markdown",
   "metadata": {},
   "source": [
    "## 0.1 Cleaning"
   ]
  },
  {
   "cell_type": "code",
   "execution_count": 2,
   "metadata": {},
   "outputs": [
    {
     "name": "stdout",
     "output_type": "stream",
     "text": [
      "Number of colums in Dataframe :  31\n",
      "Number of rows in Dataframe :  47\n"
     ]
    }
   ],
   "source": [
    "# Removing \"sono salvo\"\n",
    "df = df[df['10'] != 'sono salvo']\n",
    "\n",
    "# Removing unseful columns\n",
    "del df['reference']\n",
    "del df['version']\n",
    "#del df['22']\n",
    "\n",
    "\n",
    "\n",
    "# Check the data\n",
    "print('Number of colums in Dataframe : ', len(df.columns))\n",
    "print('Number of rows in Dataframe : ', len(df.index))\n",
    "\n",
    "#list(df.columns.values)\n",
    "#df"
   ]
  },
  {
   "cell_type": "markdown",
   "metadata": {},
   "source": [
    "## 0.2 Rename the questions"
   ]
  },
  {
   "cell_type": "code",
   "execution_count": 3,
   "metadata": {},
   "outputs": [],
   "source": [
    "#Rename the variables toinclude the text of the questions with copy-paste\n",
    "df.columns = ['sessionId',\n",
    "              'lastUpdate',\n",
    "              'qName', \n",
    "              '10. How do you feel about YouTube recommendations?',\n",
    "              '11. Are these algorithmic suggestions useful for you as a user?',\n",
    "              '12. Are these algorithmic suggestions useful for you as a content creator?',\n",
    "              '13. How often do you understand how this algorithm works?',\n",
    "              '14. What do you understand about the algorithm s logic?',\n",
    "              '15. How much can you control the videos recommended to your audience by the algorithm?',\n",
    "              '16. Which strategies do you use to influence the algorithm and reach your audience?',\n",
    "              '17. Do you think the algorithm is fairly promoting your videos?',\n",
    "              '18. When do you think the algorithm favors your content, and when do you think it demotes or censors it?',\n",
    "              '19. There are different types of algorithmic recommendations on YouTube, not only the one described in the image at the top of this page. Which ones are more important / useful for you?',\n",
    "              '21. How much do you think this software could be helpful for you compared with standard Youtube suggestions?',\n",
    "              '22. -21b- tell us why and make some example',\n",
    "              '23. How much do you think this could be interesting for your audience compared with standard Youtube suggestions?',\n",
    "              '24. -23b- tell us why and make some example',\n",
    "              '25. How much do you like the idea of having a personal dashboard compared with the idea of using the videos s description to declare which videos will be recommended to your audience?',\n",
    "              '26. Do you have any thoughts about how the content creator interface could be developed to answer your needs? ',\n",
    "              '31. Do you know what shadow-ban is? ',\n",
    "              '32. How much are you scared to be shadow-banned?',\n",
    "              '33. How much are you interested in a tool that can detect when a channel is being shadow banned (shadow-ban tester)?',\n",
    "              '34. Do you know of any case of shadow-ban that happened to you or other Youtubers?',\n",
    "              '35. What is the evidence that you / other Youtubers provided about the cases? ',\n",
    "              '36. We plan to use collaborative data collections to spot shadow-ban: users will automatically communicate their recommended videos with us, and we will provide statistics about the shadow-ban.Would you like to ask your audience for help? ',\n",
    "              '37. -36b- What are your main concern about talking with oyur audience ',\n",
    "              '41. How long have you been a Youtuber?',\n",
    "              '42. What s your channel about?',\n",
    "              '43. If you are interested in the project, leave here your email. We will send you just one email updating you on the day we will lunch the tool.',\n",
    "              '44. Let us know if you are available for an online interview (30 minutes max). We will use this time to tell you more about the tool, to think together about the possible future of this software and the community that will grow around it.',\n",
    "              '45. If you could change one thing about website/product what would it be and why?',\n",
    "             ]"
   ]
  },
  {
   "cell_type": "code",
   "execution_count": 4,
   "metadata": {
    "scrolled": false
   },
   "outputs": [],
   "source": [
    "# Rename the questions with meaningful namesa\n",
    "df.rename(columns={'41. How long have you been a Youtuber?': 'experience'}, inplace=True)\n",
    "df.rename(columns={'42. What s your channel about?': 'channel type'}, inplace=True)\n",
    "df.rename(columns={'43. If you are interested in the project, leave here your email. We will send you just one email updating you on the day we will lunch the tool.': 'email for updateds'}, inplace=True)\n",
    "df.rename(columns={'44. Let us know if you are available for an online interview (30 minutes max). We will use this time to tell you more about the tool, to think together about the possible future of this software and the community that will grow around it.': 'interview'}, inplace=True)\n",
    "df.rename(columns={'45. If you could change one thing about website/product what would it be and why?': 'final suggestion'}, inplace=True)\n"
   ]
  },
  {
   "cell_type": "code",
   "execution_count": 5,
   "metadata": {},
   "outputs": [],
   "source": [
    "df['user'] = np.arange(len(df))"
   ]
  },
  {
   "cell_type": "markdown",
   "metadata": {},
   "source": [
    "## 1. Interview"
   ]
  },
  {
   "cell_type": "code",
   "execution_count": 13,
   "metadata": {},
   "outputs": [
    {
     "data": {
      "text/plain": [
       "interview  email for updateds               user\n",
       "NO         antoninsansh.contact@gmail.com   17      1\n",
       "           cottrez.guy@gmail.com            12      1\n",
       "           mehdi.benrami8@gmail.com         41      1\n",
       "           services.blogrentable@gmail.com  43      1\n",
       "           xofmoreau@gmail.com              34      1\n",
       "YES        Vachervincent@hotmail.com        37      1\n",
       "           bouratcho@hotmail.com            29      1\n",
       "           david.percy@idol.io              18      1\n",
       "           gildev@gmail.com                 32      1\n",
       "           hello.tangerinevideos@gmail.com  19      1\n",
       "           jeremy.dalle@hotmail.fr          21      1\n",
       "           lcdytubers@gmail.com             13      1\n",
       "           rodolphe.koehly@papierlogik.com  10      1\n",
       "           yanis.malot@gmail.com            8       1\n",
       "dtype: int64"
      ]
     },
     "execution_count": 13,
     "metadata": {},
     "output_type": "execute_result"
    }
   ],
   "source": [
    "# Mail and will to be interviewed\n",
    "df[{'interview', 'user','email for updateds'}].value_counts()"
   ]
  },
  {
   "cell_type": "code",
   "execution_count": 19,
   "metadata": {},
   "outputs": [
    {
     "data": {
      "text/plain": [
       "interview  experience  email for updateds             \n",
       "NO         1.0         mehdi.benrami8@gmail.com           1\n",
       "           2.0         antoninsansh.contact@gmail.com     1\n",
       "                       services.blogrentable@gmail.com    1\n",
       "                       xofmoreau@gmail.com                1\n",
       "           3.0         cottrez.guy@gmail.com              1\n",
       "YES        1.0         gildev@gmail.com                   1\n",
       "                       rodolphe.koehly@papierlogik.com    1\n",
       "           2.0         Vachervincent@hotmail.com          1\n",
       "                       hello.tangerinevideos@gmail.com    1\n",
       "           3.0         bouratcho@hotmail.com              1\n",
       "                       david.percy@idol.io                1\n",
       "                       jeremy.dalle@hotmail.fr            1\n",
       "                       lcdytubers@gmail.com               1\n",
       "                       yanis.malot@gmail.com              1\n",
       "dtype: int64"
      ]
     },
     "execution_count": 19,
     "metadata": {},
     "output_type": "execute_result"
    }
   ],
   "source": [
    "df[{'interview', 'experience', 'email for updateds' , }].value_counts().sort_values()"
   ]
  },
  {
   "cell_type": "code",
   "execution_count": 22,
   "metadata": {
    "scrolled": false
   },
   "outputs": [
    {
     "data": {
      "text/plain": [
       "9                       J’ai deux chaines. Une chaine perso ou je publie mes slams/raps, ou l’on peut visionner d’anciennes vidéos drôles, ou je prépare de nouveaux trucs. Et une deuxième chaine orienté culture geek et humour\n",
       "11                                                                                                                                                       Personnal and educationnal tools and research in paper-based electronics\n",
       "14                                                                                                                                                                                                 Audience growth on YouTube ;-)\n",
       "19                                                                                                                                                                  Music (Professional channel manager for many musical artists)\n",
       "20                                                                                                                                                                           Rock/punk/metal music and musical industry in France\n",
       "22                        I have several channels. One of music covers, having fun with friends ... Another about interviews with FPV drone pilots. The last one is a showcase of my company (I make FPV drone video recordings).\n",
       "30                                                                                                                                                                                                             Hi-tech and energy\n",
       "33    Electronics and computing projects. I made multiple videos when I was a kid, then had a big pause, and am now trying to set everything up again and gain motivation to create some quality videos about some cool projects.\n",
       "38                                                                                                                                                                                                                        Trading\n",
       "Name: channel type, dtype: object"
      ]
     },
     "execution_count": 22,
     "metadata": {},
     "output_type": "execute_result"
    }
   ],
   "source": [
    "# Topics of the channels\n",
    "pd.set_option('display.max_colwidth', None)\n",
    "calldf = df.loc[df['interview'] == 'YES']\n",
    "\n",
    "calldf['channel type']"
   ]
  },
  {
   "cell_type": "markdown",
   "metadata": {},
   "source": [
    "## 2. UX design"
   ]
  },
  {
   "cell_type": "code",
   "execution_count": 9,
   "metadata": {},
   "outputs": [],
   "source": [
    "%matplotlib inline"
   ]
  },
  {
   "cell_type": "code",
   "execution_count": 10,
   "metadata": {},
   "outputs": [
    {
     "data": {
      "text/plain": [
       "interview  email for updateds             \n",
       "NO         antoninsansh.contact@gmail.com     1\n",
       "           cottrez.guy@gmail.com              1\n",
       "           mehdi.benrami8@gmail.com           1\n",
       "           services.blogrentable@gmail.com    1\n",
       "           xofmoreau@gmail.com                1\n",
       "YES        Vachervincent@hotmail.com          1\n",
       "           bouratcho@hotmail.com              1\n",
       "           david.percy@idol.io                1\n",
       "           gildev@gmail.com                   1\n",
       "           hello.tangerinevideos@gmail.com    1\n",
       "           jeremy.dalle@hotmail.fr            1\n",
       "           lcdytubers@gmail.com               1\n",
       "           rodolphe.koehly@papierlogik.com    1\n",
       "           yanis.malot@gmail.com              1\n",
       "dtype: int64"
      ]
     },
     "execution_count": 10,
     "metadata": {},
     "output_type": "execute_result"
    }
   ],
   "source": [
    "df[{'interview', 'email for updateds'}].value_counts()"
   ]
  },
  {
   "cell_type": "code",
   "execution_count": null,
   "metadata": {},
   "outputs": [],
   "source": []
  },
  {
   "cell_type": "code",
   "execution_count": null,
   "metadata": {},
   "outputs": [],
   "source": []
  },
  {
   "cell_type": "code",
   "execution_count": null,
   "metadata": {},
   "outputs": [],
   "source": []
  },
  {
   "cell_type": "code",
   "execution_count": null,
   "metadata": {},
   "outputs": [],
   "source": []
  },
  {
   "cell_type": "markdown",
   "metadata": {},
   "source": [
    "## 99. Other"
   ]
  },
  {
   "cell_type": "code",
   "execution_count": 11,
   "metadata": {},
   "outputs": [
    {
     "data": {
      "text/plain": [
       "11    A final other comments and thank box for me to say thanks for this initiative I discovered from Amy channel. Your project makes full sense for an old nanoyoutuber that keeps feeling in a driven path when accessing videos and mre and more turning to alternative platforms that get more and more interesting than youtube. SO thanks and all the best to you. \n",
       "13                                                                                                                                                                                                                                                                                                                                             aucune idée pour le moment\n",
       "19                                                                                                                          Fairer recommendation system based on quality of content rather than guideline compliance & existing audience. Videos should be categorised as similar with total disregard for monetisation or the number of average viewers the channel has\n",
       "20                                                                                                                                                                                                                                                                                                                                                          It’s all good\n",
       "21                                                                                                                                                                                                                                                                                                                                                                 Design\n",
       "22                                                                                                                                                                                                                                                                                  I will be able to answer this question as soon as I have used your tool a little bit.\n",
       "30                                                                                                                                                                                                                                                                                                                                        your type form in french please\n",
       "35                                                                                                                                                                                                                                                                                                               pas encore assez de recul pour répondre à cette question\n",
       "38                                                                                                                                                                                                                                                                                                                       Je n’ai pas encore testé donc pas de suggestion \n",
       "42                                                                                                                                                                                                                                                                                                                                                                   rien\n",
       "44                                                                                                                                                                                                                                                                                                                                                 Now, it’s right for me\n",
       "Name: final suggestion, dtype: object"
      ]
     },
     "execution_count": 11,
     "metadata": {},
     "output_type": "execute_result"
    }
   ],
   "source": [
    "# Final suggestions: not really...\n",
    "df['final suggestion'].dropna()"
   ]
  }
 ],
 "metadata": {
  "kernelspec": {
   "display_name": "Python 3",
   "language": "python",
   "name": "python3"
  },
  "language_info": {
   "codemirror_mode": {
    "name": "ipython",
    "version": 3
   },
   "file_extension": ".py",
   "mimetype": "text/x-python",
   "name": "python",
   "nbconvert_exporter": "python",
   "pygments_lexer": "ipython3",
   "version": "3.8.10"
  },
  "pycharm": {
   "stem_cell": {
    "cell_type": "raw",
    "metadata": {
     "collapsed": false
    },
    "source": [
     "# Query the author API to a sample csv"
    ]
   }
  }
 },
 "nbformat": 4,
 "nbformat_minor": 1
}
