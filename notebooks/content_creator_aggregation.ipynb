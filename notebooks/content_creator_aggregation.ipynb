{
 "cells": [
  {
   "cell_type": "code",
   "execution_count": null,
   "metadata": {
    "collapsed": true
   },
   "outputs": [],
   "source": [
    "import os\n",
    "# API references an author from one of its video\n",
    "# store in tmp\n",
    "os.system('curl https://youtube.tracking.exposed/api/v1/author/LPRAZr2MIuE > /tmp/yoshi.csv ')"
   ]
  },
  {
   "cell_type": "code",
   "execution_count": 2,
   "outputs": [],
   "source": [
    "import json\n",
    "with open('/tmp/yoshi.csv') as jsonfile:\n",
    "    author_file = json.load(jsonfile)"
   ],
   "metadata": {
    "collapsed": false,
    "pycharm": {
     "name": "#%%\n"
    }
   }
  },
  {
   "cell_type": "code",
   "execution_count": 3,
   "outputs": [],
   "source": [
    "recommendations = author_file['content']\n",
    "\n",
    "all_recos = []\n",
    "for recommendedVideoId, records in recommendations:\n",
    "    for record in records:\n",
    "        assert record['relatedVideoId'] == recommendedVideoId\n",
    "        all_recos.append(record)"
   ],
   "metadata": {
    "collapsed": false,
    "pycharm": {
     "name": "#%%\n"
    }
   }
  },
  {
   "cell_type": "code",
   "execution_count": 4,
   "outputs": [],
   "source": [
    "import pandas as pd\n",
    "author_recos = pd.DataFrame(all_recos)\n",
    "\n",
    "# Problem: the relatedAuthorName is incorrect:\n",
    "author_recos.relatedAuthorName.value_counts()"
   ],
   "metadata": {
    "collapsed": false,
    "pycharm": {
     "name": "#%%\n"
    }
   }
  }
 ],
 "metadata": {
  "kernelspec": {
   "display_name": "Python 3",
   "language": "python",
   "name": "python3"
  },
  "language_info": {
   "codemirror_mode": {
    "name": "ipython",
    "version": 2
   },
   "file_extension": ".py",
   "mimetype": "text/x-python",
   "name": "python",
   "nbconvert_exporter": "python",
   "pygments_lexer": "ipython2",
   "version": "2.7.6"
  },
  "pycharm": {
   "stem_cell": {
    "cell_type": "raw",
    "source": [
     "# Query the author API to a sample csv"
    ],
    "metadata": {
     "collapsed": false
    }
   }
  }
 },
 "nbformat": 4,
 "nbformat_minor": 0
}