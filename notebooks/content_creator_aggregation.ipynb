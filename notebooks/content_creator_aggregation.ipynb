{
 "cells": [
  {
   "cell_type": "code",
   "execution_count": null,
   "metadata": {
    "collapsed": true
   },
   "outputs": [],
   "source": [
    "import os\n",
    "# API references an author from one of its video\n",
    "# store in tmp\n",
    "file_name = '/tmp/amy.csv'\n",
    "\n",
    "#os.system('curl https://youtube.tracking.exposed/api/v1/author/LPRAZr2MIuE > /tmp/yoshi.csv ')\n",
    "os.system('curl https://youtube.tracking.exposed/api/v1/author/EJIFGe0q-Fs > ' + file_name)"
   ]
  },
  {
   "cell_type": "code",
   "execution_count": 2,
   "outputs": [],
   "source": [
    "import json\n",
    "with open(file_name) as jsonfile:\n",
    "    author_file = json.load(jsonfile)"
   ],
   "metadata": {
    "collapsed": false,
    "pycharm": {
     "name": "#%%\n"
    }
   }
  },
  {
   "cell_type": "code",
   "execution_count": 3,
   "outputs": [],
   "source": [
    "import pandas as pd\n",
    "\n",
    "recos = pd.DataFrame(author_file['content'])\n",
    "\n",
    "self_reco_score = len(recos[recos.recommendedChannel == 'ici Amy Plant']) / len(recos)"
   ],
   "metadata": {
    "collapsed": false,
    "pycharm": {
     "name": "#%%\n"
    }
   }
  },
  {
   "cell_type": "code",
   "execution_count": null,
   "outputs": [],
   "source": [
    "recos.recommendedChannel.value_counts() / recos.recommendedChannel.value_counts().sum()"
   ],
   "metadata": {
    "collapsed": false,
    "pycharm": {
     "name": "#%%\n"
    }
   }
  }
 ],
 "metadata": {
  "kernelspec": {
   "display_name": "Python 3",
   "language": "python",
   "name": "python3"
  },
  "language_info": {
   "codemirror_mode": {
    "name": "ipython",
    "version": 2
   },
   "file_extension": ".py",
   "mimetype": "text/x-python",
   "name": "python",
   "nbconvert_exporter": "python",
   "pygments_lexer": "ipython2",
   "version": "2.7.6"
  },
  "pycharm": {
   "stem_cell": {
    "cell_type": "raw",
    "source": [
     "# Query the author API to a sample csv"
    ],
    "metadata": {
     "collapsed": false
    }
   }
  }
 },
 "nbformat": 4,
 "nbformat_minor": 0
}